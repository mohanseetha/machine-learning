{
  "nbformat": 4,
  "nbformat_minor": 0,
  "metadata": {
    "colab": {
      "provenance": [],
      "authorship_tag": "ABX9TyMSGS9PU/JOay6YlfoMpSDn",
      "include_colab_link": true
    },
    "kernelspec": {
      "name": "python3",
      "display_name": "Python 3"
    },
    "language_info": {
      "name": "python"
    }
  },
  "cells": [
    {
      "cell_type": "markdown",
      "metadata": {
        "id": "view-in-github",
        "colab_type": "text"
      },
      "source": [
        "<a href=\"https://colab.research.google.com/github/mohanseetha/machine-learning/blob/main/image_classification.ipynb\" target=\"_parent\"><img src=\"https://colab.research.google.com/assets/colab-badge.svg\" alt=\"Open In Colab\"/></a>"
      ]
    },
    {
      "cell_type": "code",
      "source": [
        "import numpy as np\n",
        "from PIL import Image\n",
        "import torch\n",
        "import torch.nn as nn\n",
        "import torch.nn.functional as F\n",
        "import torch.optim as optim\n",
        "import torchvision\n",
        "import torchvision.transforms as transforms"
      ],
      "metadata": {
        "id": "rI1DyRTexgXU"
      },
      "execution_count": 4,
      "outputs": []
    },
    {
      "cell_type": "code",
      "source": [
        "transform = transforms.Compose([\n",
        "    transforms.ToTensor(),\n",
        "    transforms.Normalize((0.5, 0.5, 0.5), (0.5, 0.5, 0.5))\n",
        "])"
      ],
      "metadata": {
        "id": "Xt2fJa4TyGKd"
      },
      "execution_count": 5,
      "outputs": []
    },
    {
      "cell_type": "code",
      "source": [
        "train_data = torchvision.datasets.CIFAR10(root='./data', train=True, transform=transform, download=True)\n",
        "test_data = torchvision.datasets.CIFAR10(root='./data', train=False, transform=transform, download=True)\n",
        "\n",
        "train_loader = torch.utils.data.DataLoader(train_data, batch_size=32, shuffle=True, num_workers=2)\n",
        "test_loader = torch.utils.data.DataLoader(test_data, batch_size=32, shuffle=True, num_workers=2)"
      ],
      "metadata": {
        "colab": {
          "base_uri": "https://localhost:8080/"
        },
        "id": "9SubiRqH01fV",
        "outputId": "47d81985-c192-4aef-82f1-55b17f112ab2"
      },
      "execution_count": 6,
      "outputs": [
        {
          "output_type": "stream",
          "name": "stderr",
          "text": [
            "100%|██████████| 170M/170M [00:02<00:00, 76.4MB/s]\n"
          ]
        }
      ]
    },
    {
      "cell_type": "code",
      "source": [
        "img, label = train_data[0]\n",
        "img.shape"
      ],
      "metadata": {
        "colab": {
          "base_uri": "https://localhost:8080/"
        },
        "id": "1CaqdbJ61zxM",
        "outputId": "a93155a0-0467-4300-a3d4-ccee99edd53a"
      },
      "execution_count": 9,
      "outputs": [
        {
          "output_type": "execute_result",
          "data": {
            "text/plain": [
              "torch.Size([3, 32, 32])"
            ]
          },
          "metadata": {},
          "execution_count": 9
        }
      ]
    },
    {
      "cell_type": "code",
      "source": [
        "class_names = train_data.classes\n",
        "class_names"
      ],
      "metadata": {
        "colab": {
          "base_uri": "https://localhost:8080/"
        },
        "id": "mb-sOZgD2B_v",
        "outputId": "ffa80677-44d5-4a85-9c6a-f899fe07c27c"
      },
      "execution_count": 12,
      "outputs": [
        {
          "output_type": "execute_result",
          "data": {
            "text/plain": [
              "['airplane',\n",
              " 'automobile',\n",
              " 'bird',\n",
              " 'cat',\n",
              " 'deer',\n",
              " 'dog',\n",
              " 'frog',\n",
              " 'horse',\n",
              " 'ship',\n",
              " 'truck']"
            ]
          },
          "metadata": {},
          "execution_count": 12
        }
      ]
    },
    {
      "cell_type": "code",
      "source": [
        "class NeuralNet(nn.Module):\n",
        "\n",
        "    def __init__(self):\n",
        "        super(NeuralNet, self).__init__()\n",
        "\n",
        "        self.conv1 = nn.Conv2d(3, 12, 5)\n",
        "        self.pool = nn.MaxPool2d(2, 2)\n",
        "        self.conv2 = nn.Conv2d(12, 24, 5)\n",
        "        self.fc1 = nn.Linear(24 * 5 * 5, 120)\n",
        "        self.fc2 = nn.Linear(120, 84)\n",
        "        self.fc3 = nn.Linear(84, 10)\n",
        "\n",
        "    def forward(self, x):\n",
        "        x = self.pool(F.relu(self.conv1(x)))\n",
        "        x = self.pool(F.relu(self.conv2(x)))\n",
        "        x = torch.flatten(x, 1)\n",
        "        x = F.relu(self.fc1(x))\n",
        "        x = F.relu(self.fc2(x))\n",
        "        x = self.fc3(x)\n",
        "        return x\n"
      ],
      "metadata": {
        "id": "JTCOjdEk2juJ"
      },
      "execution_count": 14,
      "outputs": []
    },
    {
      "cell_type": "code",
      "source": [
        "cnn = NeuralNet()\n",
        "loss_function = nn.CrossEntropyLoss()\n",
        "optimizer = optim.SGD(cnn.parameters(), lr=0.001, momentum=0.9)"
      ],
      "metadata": {
        "id": "vtMHiJ7A7fZn"
      },
      "execution_count": 15,
      "outputs": []
    },
    {
      "cell_type": "code",
      "source": [
        "num_epochs = 50\n",
        "for epoch in range(num_epochs):\n",
        "    print(f\"Training epoch {epoch + 1}/{num_epochs} \", end=\"\")\n",
        "    running_loss = 0.0\n",
        "\n",
        "    for i, data in enumerate(train_loader):\n",
        "        inputs, labels = data\n",
        "        optimizer.zero_grad()\n",
        "        outputs = cnn(inputs)\n",
        "        loss = loss_function(outputs, labels)\n",
        "        loss.backward()\n",
        "        optimizer.step()\n",
        "        running_loss += loss.item()\n",
        "\n",
        "    print(f\"Loss: {running_loss / len(train_loader):.4f}\")\n",
        "\n",
        "print(\"Training Completed\")"
      ],
      "metadata": {
        "colab": {
          "base_uri": "https://localhost:8080/"
        },
        "id": "fyhXPO1x71xT",
        "outputId": "de1a1e1a-49ca-4b9c-ebaf-08a98d4e3f55"
      },
      "execution_count": 22,
      "outputs": [
        {
          "output_type": "stream",
          "name": "stdout",
          "text": [
            "Training epoch 1/50 Loss: 0.4411\n",
            "Training epoch 2/50 Loss: 0.4219\n",
            "Training epoch 3/50 Loss: 0.4040\n",
            "Training epoch 4/50 Loss: 0.3832\n",
            "Training epoch 5/50 Loss: 0.3698\n",
            "Training epoch 6/50 Loss: 0.3492\n",
            "Training epoch 7/50 Loss: 0.3323\n",
            "Training epoch 8/50 Loss: 0.3139\n",
            "Training epoch 9/50 Loss: 0.3041\n",
            "Training epoch 10/50 Loss: 0.2846\n",
            "Training epoch 11/50 Loss: 0.2757\n",
            "Training epoch 12/50 Loss: 0.2649\n",
            "Training epoch 13/50 Loss: 0.2455\n",
            "Training epoch 14/50 Loss: 0.2346\n",
            "Training epoch 15/50 Loss: 0.2236\n",
            "Training epoch 16/50 Loss: 0.2114\n",
            "Training epoch 17/50 Loss: 0.1954\n",
            "Training epoch 18/50 Loss: 0.1955\n",
            "Training epoch 19/50 Loss: 0.1872\n",
            "Training epoch 20/50 Loss: 0.1731\n",
            "Training epoch 21/50 Loss: 0.1621\n",
            "Training epoch 22/50 Loss: 0.1635\n",
            "Training epoch 23/50 Loss: 0.1671\n",
            "Training epoch 24/50 Loss: 0.1475\n",
            "Training epoch 25/50 Loss: 0.1368\n",
            "Training epoch 26/50 Loss: 0.1307\n",
            "Training epoch 27/50 Loss: 0.1285\n",
            "Training epoch 28/50 Loss: 0.1332\n",
            "Training epoch 29/50 Loss: 0.1315\n",
            "Training epoch 30/50 Loss: 0.1213\n",
            "Training epoch 31/50 Loss: 0.1246\n",
            "Training epoch 32/50 Loss: 0.1194\n",
            "Training epoch 33/50 Loss: 0.1143\n",
            "Training epoch 34/50 Loss: 0.1090\n",
            "Training epoch 35/50 Loss: 0.0907\n",
            "Training epoch 36/50 Loss: 0.0807\n",
            "Training epoch 37/50 Loss: 0.0975\n",
            "Training epoch 38/50 Loss: 0.0922\n",
            "Training epoch 39/50 Loss: 0.0828\n",
            "Training epoch 40/50 Loss: 0.0989\n",
            "Training epoch 41/50 Loss: 0.0779\n",
            "Training epoch 42/50 Loss: 0.0628\n",
            "Training epoch 43/50 Loss: 0.0732\n",
            "Training epoch 44/50 Loss: 0.1243\n",
            "Training epoch 45/50 Loss: 0.1077\n",
            "Training epoch 46/50 Loss: 0.1015\n",
            "Training epoch 47/50 Loss: 0.0825\n",
            "Training epoch 48/50 Loss: 0.0584\n",
            "Training epoch 49/50 Loss: 0.0435\n",
            "Training epoch 50/50 Loss: 0.0324\n",
            "Training Completed\n"
          ]
        }
      ]
    },
    {
      "cell_type": "code",
      "source": [
        "torch.save(cnn.state_dict(), 'cnn.pth')"
      ],
      "metadata": {
        "id": "iEYxy3ni9Oj8"
      },
      "execution_count": 23,
      "outputs": []
    },
    {
      "cell_type": "code",
      "source": [
        "net = NeuralNet()\n",
        "net.load_state_dict(torch.load('cnn.pth'))"
      ],
      "metadata": {
        "colab": {
          "base_uri": "https://localhost:8080/"
        },
        "id": "ojGR5H8e-Ov-",
        "outputId": "3d3024f4-7505-4b68-d8b7-9ec2d8bd513c"
      },
      "execution_count": 24,
      "outputs": [
        {
          "output_type": "execute_result",
          "data": {
            "text/plain": [
              "<All keys matched successfully>"
            ]
          },
          "metadata": {},
          "execution_count": 24
        }
      ]
    },
    {
      "cell_type": "code",
      "source": [
        "correct = 0\n",
        "total = 0\n",
        "\n",
        "net.eval()\n",
        "\n",
        "with torch.no_grad():\n",
        "    for data in test_loader:\n",
        "        images, labels = data\n",
        "        outputs = net(images)\n",
        "        _, predicted = torch.max(outputs, 1)\n",
        "        total += labels.size(0)\n",
        "        correct += (predicted == labels).sum().item()\n",
        "\n",
        "print(f\"Accuracy: {100 * correct / total:.2f}%\")"
      ],
      "metadata": {
        "colab": {
          "base_uri": "https://localhost:8080/"
        },
        "id": "Xo1ZEU1M-U10",
        "outputId": "2ce8bf9a-0344-45cb-b097-8881454f3aa2"
      },
      "execution_count": 25,
      "outputs": [
        {
          "output_type": "stream",
          "name": "stdout",
          "text": [
            "Accuracy: 65.73%\n"
          ]
        }
      ]
    },
    {
      "cell_type": "code",
      "source": [
        "new_transform = transforms.Compose([\n",
        "    transforms.Resize((32, 32)),\n",
        "    transforms.ToTensor(),\n",
        "    transforms.Normalize((0.5, 0.5, 0.5), (0.5, 0.5, 0.5))\n",
        "])\n",
        "\n",
        "def load_image(img_path):\n",
        "    img = Image.open(img_path)\n",
        "    img = new_transform(img)\n",
        "    img = img.unsqueeze(0)\n",
        "    return img\n",
        "\n",
        "img_paths = ['img1.webp', 'img2.jpg', 'img3.webp']\n",
        "images = [load_image(img_path) for img_path in img_paths]\n",
        "\n",
        "net.eval()\n",
        "with torch.no_grad():\n",
        "    for img in images:\n",
        "        outputs = net(img)\n",
        "        _, predicted = torch.max(outputs, 1)\n",
        "        print(f\"Prediction: {class_names[predicted.item()]}\")\n"
      ],
      "metadata": {
        "colab": {
          "base_uri": "https://localhost:8080/"
        },
        "id": "tHbENe3G_u3W",
        "outputId": "be5c7a20-1773-48ca-ed72-36cbab7c6f1b"
      },
      "execution_count": 26,
      "outputs": [
        {
          "output_type": "stream",
          "name": "stdout",
          "text": [
            "Prediction: dog\n",
            "Prediction: bird\n",
            "Prediction: airplane\n"
          ]
        }
      ]
    }
  ]
}