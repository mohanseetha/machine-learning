{
 "cells": [
  {
   "cell_type": "markdown",
   "id": "97753cdd",
   "metadata": {
    "papermill": {
     "duration": 0.004898,
     "end_time": "2025-02-24T16:02:58.608201",
     "exception": false,
     "start_time": "2025-02-24T16:02:58.603303",
     "status": "completed"
    },
    "tags": []
   },
   "source": [
    "<h1>Movie Recommendation System</h1>"
   ]
  },
  {
   "cell_type": "markdown",
   "id": "6cefbfcb",
   "metadata": {
    "papermill": {
     "duration": 0.003867,
     "end_time": "2025-02-24T16:02:58.616374",
     "exception": false,
     "start_time": "2025-02-24T16:02:58.612507",
     "status": "completed"
    },
    "tags": []
   },
   "source": [
    "<h2>Import all necessary libraries</h2>"
   ]
  },
  {
   "cell_type": "code",
   "execution_count": 1,
   "id": "ce698718",
   "metadata": {
    "_cell_guid": "b1076dfc-b9ad-4769-8c92-a6c4dae69d19",
    "_uuid": "8f2839f25d086af736a60e9eeb907d3b93b6e0e5",
    "execution": {
     "iopub.execute_input": "2025-02-24T16:02:58.625891Z",
     "iopub.status.busy": "2025-02-24T16:02:58.625556Z",
     "iopub.status.idle": "2025-02-24T16:03:01.269177Z",
     "shell.execute_reply": "2025-02-24T16:03:01.268377Z"
    },
    "papermill": {
     "duration": 2.649996,
     "end_time": "2025-02-24T16:03:01.270559",
     "exception": false,
     "start_time": "2025-02-24T16:02:58.620563",
     "status": "completed"
    },
    "tags": []
   },
   "outputs": [],
   "source": [
    "import numpy as np\n",
    "import pandas as pd\n",
    "from sklearn.feature_extraction.text import TfidfVectorizer, CountVectorizer\n",
    "from sklearn.metrics.pairwise import cosine_similarity\n",
    "import nltk\n",
    "from nltk.corpus import stopwords\n",
    "from nltk.stem import WordNetLemmatizer\n",
    "from ast import literal_eval"
   ]
  },
  {
   "cell_type": "markdown",
   "id": "a652ba3a",
   "metadata": {
    "papermill": {
     "duration": 0.003903,
     "end_time": "2025-02-24T16:03:01.279089",
     "exception": false,
     "start_time": "2025-02-24T16:03:01.275186",
     "status": "completed"
    },
    "tags": []
   },
   "source": [
    "<h2>Loading the data</h2>"
   ]
  },
  {
   "cell_type": "code",
   "execution_count": 2,
   "id": "8a662cde",
   "metadata": {
    "execution": {
     "iopub.execute_input": "2025-02-24T16:03:01.288528Z",
     "iopub.status.busy": "2025-02-24T16:03:01.288177Z",
     "iopub.status.idle": "2025-02-24T16:03:14.995445Z",
     "shell.execute_reply": "2025-02-24T16:03:14.994534Z"
    },
    "papermill": {
     "duration": 13.713443,
     "end_time": "2025-02-24T16:03:14.996947",
     "exception": false,
     "start_time": "2025-02-24T16:03:01.283504",
     "status": "completed"
    },
    "tags": []
   },
   "outputs": [
    {
     "data": {
      "text/html": [
       "<div>\n",
       "<style scoped>\n",
       "    .dataframe tbody tr th:only-of-type {\n",
       "        vertical-align: middle;\n",
       "    }\n",
       "\n",
       "    .dataframe tbody tr th {\n",
       "        vertical-align: top;\n",
       "    }\n",
       "\n",
       "    .dataframe thead th {\n",
       "        text-align: right;\n",
       "    }\n",
       "</style>\n",
       "<table border=\"1\" class=\"dataframe\">\n",
       "  <thead>\n",
       "    <tr style=\"text-align: right;\">\n",
       "      <th></th>\n",
       "      <th>id</th>\n",
       "      <th>title</th>\n",
       "      <th>vote_average</th>\n",
       "      <th>vote_count</th>\n",
       "      <th>status</th>\n",
       "      <th>release_date</th>\n",
       "      <th>revenue</th>\n",
       "      <th>runtime</th>\n",
       "      <th>adult</th>\n",
       "      <th>backdrop_path</th>\n",
       "      <th>...</th>\n",
       "      <th>original_title</th>\n",
       "      <th>overview</th>\n",
       "      <th>popularity</th>\n",
       "      <th>poster_path</th>\n",
       "      <th>tagline</th>\n",
       "      <th>genres</th>\n",
       "      <th>production_companies</th>\n",
       "      <th>production_countries</th>\n",
       "      <th>spoken_languages</th>\n",
       "      <th>keywords</th>\n",
       "    </tr>\n",
       "  </thead>\n",
       "  <tbody>\n",
       "    <tr>\n",
       "      <th>0</th>\n",
       "      <td>27205</td>\n",
       "      <td>Inception</td>\n",
       "      <td>8.364</td>\n",
       "      <td>34495</td>\n",
       "      <td>Released</td>\n",
       "      <td>2010-07-15</td>\n",
       "      <td>825532764</td>\n",
       "      <td>148</td>\n",
       "      <td>False</td>\n",
       "      <td>/8ZTVqvKDQ8emSGUEMjsS4yHAwrp.jpg</td>\n",
       "      <td>...</td>\n",
       "      <td>Inception</td>\n",
       "      <td>Cobb, a skilled thief who commits corporate es...</td>\n",
       "      <td>83.952</td>\n",
       "      <td>/oYuLEt3zVCKq57qu2F8dT7NIa6f.jpg</td>\n",
       "      <td>Your mind is the scene of the crime.</td>\n",
       "      <td>Action, Science Fiction, Adventure</td>\n",
       "      <td>Legendary Pictures, Syncopy, Warner Bros. Pict...</td>\n",
       "      <td>United Kingdom, United States of America</td>\n",
       "      <td>English, French, Japanese, Swahili</td>\n",
       "      <td>rescue, mission, dream, airplane, paris, franc...</td>\n",
       "    </tr>\n",
       "    <tr>\n",
       "      <th>1</th>\n",
       "      <td>157336</td>\n",
       "      <td>Interstellar</td>\n",
       "      <td>8.417</td>\n",
       "      <td>32571</td>\n",
       "      <td>Released</td>\n",
       "      <td>2014-11-05</td>\n",
       "      <td>701729206</td>\n",
       "      <td>169</td>\n",
       "      <td>False</td>\n",
       "      <td>/pbrkL804c8yAv3zBZR4QPEafpAR.jpg</td>\n",
       "      <td>...</td>\n",
       "      <td>Interstellar</td>\n",
       "      <td>The adventures of a group of explorers who mak...</td>\n",
       "      <td>140.241</td>\n",
       "      <td>/gEU2QniE6E77NI6lCU6MxlNBvIx.jpg</td>\n",
       "      <td>Mankind was born on Earth. It was never meant ...</td>\n",
       "      <td>Adventure, Drama, Science Fiction</td>\n",
       "      <td>Legendary Pictures, Syncopy, Lynda Obst Produc...</td>\n",
       "      <td>United Kingdom, United States of America</td>\n",
       "      <td>English</td>\n",
       "      <td>rescue, future, spacecraft, race against time,...</td>\n",
       "    </tr>\n",
       "    <tr>\n",
       "      <th>2</th>\n",
       "      <td>155</td>\n",
       "      <td>The Dark Knight</td>\n",
       "      <td>8.512</td>\n",
       "      <td>30619</td>\n",
       "      <td>Released</td>\n",
       "      <td>2008-07-16</td>\n",
       "      <td>1004558444</td>\n",
       "      <td>152</td>\n",
       "      <td>False</td>\n",
       "      <td>/nMKdUUepR0i5zn0y1T4CsSB5chy.jpg</td>\n",
       "      <td>...</td>\n",
       "      <td>The Dark Knight</td>\n",
       "      <td>Batman raises the stakes in his war on crime. ...</td>\n",
       "      <td>130.643</td>\n",
       "      <td>/qJ2tW6WMUDux911r6m7haRef0WH.jpg</td>\n",
       "      <td>Welcome to a world without rules.</td>\n",
       "      <td>Drama, Action, Crime, Thriller</td>\n",
       "      <td>DC Comics, Legendary Pictures, Syncopy, Isobel...</td>\n",
       "      <td>United Kingdom, United States of America</td>\n",
       "      <td>English, Mandarin</td>\n",
       "      <td>joker, sadism, chaos, secret identity, crime f...</td>\n",
       "    </tr>\n",
       "    <tr>\n",
       "      <th>3</th>\n",
       "      <td>19995</td>\n",
       "      <td>Avatar</td>\n",
       "      <td>7.573</td>\n",
       "      <td>29815</td>\n",
       "      <td>Released</td>\n",
       "      <td>2009-12-15</td>\n",
       "      <td>2923706026</td>\n",
       "      <td>162</td>\n",
       "      <td>False</td>\n",
       "      <td>/vL5LR6WdxWPjLPFRLe133jXWsh5.jpg</td>\n",
       "      <td>...</td>\n",
       "      <td>Avatar</td>\n",
       "      <td>In the 22nd century, a paraplegic Marine is di...</td>\n",
       "      <td>79.932</td>\n",
       "      <td>/kyeqWdyUXW608qlYkRqosgbbJyK.jpg</td>\n",
       "      <td>Enter the world of Pandora.</td>\n",
       "      <td>Action, Adventure, Fantasy, Science Fiction</td>\n",
       "      <td>Dune Entertainment, Lightstorm Entertainment, ...</td>\n",
       "      <td>United States of America, United Kingdom</td>\n",
       "      <td>English, Spanish</td>\n",
       "      <td>future, society, culture clash, space travel, ...</td>\n",
       "    </tr>\n",
       "    <tr>\n",
       "      <th>4</th>\n",
       "      <td>24428</td>\n",
       "      <td>The Avengers</td>\n",
       "      <td>7.710</td>\n",
       "      <td>29166</td>\n",
       "      <td>Released</td>\n",
       "      <td>2012-04-25</td>\n",
       "      <td>1518815515</td>\n",
       "      <td>143</td>\n",
       "      <td>False</td>\n",
       "      <td>/9BBTo63ANSmhC4e6r62OJFuK2GL.jpg</td>\n",
       "      <td>...</td>\n",
       "      <td>The Avengers</td>\n",
       "      <td>When an unexpected enemy emerges and threatens...</td>\n",
       "      <td>98.082</td>\n",
       "      <td>/RYMX2wcKCBAr24UyPD7xwmjaTn.jpg</td>\n",
       "      <td>Some assembly required.</td>\n",
       "      <td>Science Fiction, Action, Adventure</td>\n",
       "      <td>Marvel Studios</td>\n",
       "      <td>United States of America</td>\n",
       "      <td>English, Hindi, Russian</td>\n",
       "      <td>new york city, superhero, shield, based on com...</td>\n",
       "    </tr>\n",
       "  </tbody>\n",
       "</table>\n",
       "<p>5 rows × 24 columns</p>\n",
       "</div>"
      ],
      "text/plain": [
       "       id            title  vote_average  vote_count    status release_date  \\\n",
       "0   27205        Inception         8.364       34495  Released   2010-07-15   \n",
       "1  157336     Interstellar         8.417       32571  Released   2014-11-05   \n",
       "2     155  The Dark Knight         8.512       30619  Released   2008-07-16   \n",
       "3   19995           Avatar         7.573       29815  Released   2009-12-15   \n",
       "4   24428     The Avengers         7.710       29166  Released   2012-04-25   \n",
       "\n",
       "      revenue  runtime  adult                     backdrop_path  ...  \\\n",
       "0   825532764      148  False  /8ZTVqvKDQ8emSGUEMjsS4yHAwrp.jpg  ...   \n",
       "1   701729206      169  False  /pbrkL804c8yAv3zBZR4QPEafpAR.jpg  ...   \n",
       "2  1004558444      152  False  /nMKdUUepR0i5zn0y1T4CsSB5chy.jpg  ...   \n",
       "3  2923706026      162  False  /vL5LR6WdxWPjLPFRLe133jXWsh5.jpg  ...   \n",
       "4  1518815515      143  False  /9BBTo63ANSmhC4e6r62OJFuK2GL.jpg  ...   \n",
       "\n",
       "    original_title                                           overview  \\\n",
       "0        Inception  Cobb, a skilled thief who commits corporate es...   \n",
       "1     Interstellar  The adventures of a group of explorers who mak...   \n",
       "2  The Dark Knight  Batman raises the stakes in his war on crime. ...   \n",
       "3           Avatar  In the 22nd century, a paraplegic Marine is di...   \n",
       "4     The Avengers  When an unexpected enemy emerges and threatens...   \n",
       "\n",
       "  popularity                       poster_path  \\\n",
       "0     83.952  /oYuLEt3zVCKq57qu2F8dT7NIa6f.jpg   \n",
       "1    140.241  /gEU2QniE6E77NI6lCU6MxlNBvIx.jpg   \n",
       "2    130.643  /qJ2tW6WMUDux911r6m7haRef0WH.jpg   \n",
       "3     79.932  /kyeqWdyUXW608qlYkRqosgbbJyK.jpg   \n",
       "4     98.082   /RYMX2wcKCBAr24UyPD7xwmjaTn.jpg   \n",
       "\n",
       "                                             tagline  \\\n",
       "0               Your mind is the scene of the crime.   \n",
       "1  Mankind was born on Earth. It was never meant ...   \n",
       "2                  Welcome to a world without rules.   \n",
       "3                        Enter the world of Pandora.   \n",
       "4                            Some assembly required.   \n",
       "\n",
       "                                        genres  \\\n",
       "0           Action, Science Fiction, Adventure   \n",
       "1            Adventure, Drama, Science Fiction   \n",
       "2               Drama, Action, Crime, Thriller   \n",
       "3  Action, Adventure, Fantasy, Science Fiction   \n",
       "4           Science Fiction, Action, Adventure   \n",
       "\n",
       "                                production_companies  \\\n",
       "0  Legendary Pictures, Syncopy, Warner Bros. Pict...   \n",
       "1  Legendary Pictures, Syncopy, Lynda Obst Produc...   \n",
       "2  DC Comics, Legendary Pictures, Syncopy, Isobel...   \n",
       "3  Dune Entertainment, Lightstorm Entertainment, ...   \n",
       "4                                     Marvel Studios   \n",
       "\n",
       "                       production_countries  \\\n",
       "0  United Kingdom, United States of America   \n",
       "1  United Kingdom, United States of America   \n",
       "2  United Kingdom, United States of America   \n",
       "3  United States of America, United Kingdom   \n",
       "4                  United States of America   \n",
       "\n",
       "                     spoken_languages  \\\n",
       "0  English, French, Japanese, Swahili   \n",
       "1                             English   \n",
       "2                   English, Mandarin   \n",
       "3                    English, Spanish   \n",
       "4             English, Hindi, Russian   \n",
       "\n",
       "                                            keywords  \n",
       "0  rescue, mission, dream, airplane, paris, franc...  \n",
       "1  rescue, future, spacecraft, race against time,...  \n",
       "2  joker, sadism, chaos, secret identity, crime f...  \n",
       "3  future, society, culture clash, space travel, ...  \n",
       "4  new york city, superhero, shield, based on com...  \n",
       "\n",
       "[5 rows x 24 columns]"
      ]
     },
     "execution_count": 2,
     "metadata": {},
     "output_type": "execute_result"
    }
   ],
   "source": [
    "df = pd.read_csv('/kaggle/input/tmdb-movies-dataset-2023-930k-movies/TMDB_movie_dataset_v11.csv')\n",
    "df.head()"
   ]
  },
  {
   "cell_type": "markdown",
   "id": "486ae51e",
   "metadata": {
    "papermill": {
     "duration": 0.004689,
     "end_time": "2025-02-24T16:03:15.007686",
     "exception": false,
     "start_time": "2025-02-24T16:03:15.002997",
     "status": "completed"
    },
    "tags": []
   },
   "source": [
    "<h2>Understanding the data</h2>"
   ]
  },
  {
   "cell_type": "code",
   "execution_count": 3,
   "id": "e65548cc",
   "metadata": {
    "execution": {
     "iopub.execute_input": "2025-02-24T16:03:15.018110Z",
     "iopub.status.busy": "2025-02-24T16:03:15.017830Z",
     "iopub.status.idle": "2025-02-24T16:03:15.021994Z",
     "shell.execute_reply": "2025-02-24T16:03:15.021364Z"
    },
    "papermill": {
     "duration": 0.010664,
     "end_time": "2025-02-24T16:03:15.023016",
     "exception": false,
     "start_time": "2025-02-24T16:03:15.012352",
     "status": "completed"
    },
    "tags": []
   },
   "outputs": [
    {
     "name": "stdout",
     "output_type": "stream",
     "text": [
      "DataFrame Shape: (1182820, 24)\n",
      "Columns: ['id', 'title', 'vote_average', 'vote_count', 'status', 'release_date', 'revenue', 'runtime', 'adult', 'backdrop_path', 'budget', 'homepage', 'imdb_id', 'original_language', 'original_title', 'overview', 'popularity', 'poster_path', 'tagline', 'genres', 'production_companies', 'production_countries', 'spoken_languages', 'keywords']\n"
     ]
    }
   ],
   "source": [
    "print(f\"DataFrame Shape: {df.shape}\")\n",
    "print(\"Columns:\", df.columns.tolist())"
   ]
  },
  {
   "cell_type": "markdown",
   "id": "9f191160",
   "metadata": {
    "papermill": {
     "duration": 0.004235,
     "end_time": "2025-02-24T16:03:15.031892",
     "exception": false,
     "start_time": "2025-02-24T16:03:15.027657",
     "status": "completed"
    },
    "tags": []
   },
   "source": [
    "<h2>Data Preprocessing</h2>\n",
    "\n",
    "<h4>Checking null values in the dataframe</h4>"
   ]
  },
  {
   "cell_type": "code",
   "execution_count": 4,
   "id": "2aaf03c4",
   "metadata": {
    "execution": {
     "iopub.execute_input": "2025-02-24T16:03:15.041942Z",
     "iopub.status.busy": "2025-02-24T16:03:15.041588Z",
     "iopub.status.idle": "2025-02-24T16:03:15.683745Z",
     "shell.execute_reply": "2025-02-24T16:03:15.682799Z"
    },
    "papermill": {
     "duration": 0.648803,
     "end_time": "2025-02-24T16:03:15.685043",
     "exception": false,
     "start_time": "2025-02-24T16:03:15.036240",
     "status": "completed"
    },
    "tags": []
   },
   "outputs": [
    {
     "data": {
      "text/plain": [
       "id                            0\n",
       "title                        13\n",
       "vote_average                  0\n",
       "vote_count                    0\n",
       "status                        0\n",
       "release_date             206653\n",
       "revenue                       0\n",
       "runtime                       0\n",
       "adult                         0\n",
       "backdrop_path            872219\n",
       "budget                        0\n",
       "homepage                1058399\n",
       "imdb_id                  569002\n",
       "original_language             0\n",
       "original_title               13\n",
       "overview                 246358\n",
       "popularity                    0\n",
       "poster_path              381932\n",
       "tagline                 1017222\n",
       "genres                   482322\n",
       "production_companies     653650\n",
       "production_countries     532988\n",
       "spoken_languages         512948\n",
       "keywords                 867885\n",
       "dtype: int64"
      ]
     },
     "execution_count": 4,
     "metadata": {},
     "output_type": "execute_result"
    }
   ],
   "source": [
    "df.isnull().sum()"
   ]
  },
  {
   "cell_type": "markdown",
   "id": "6b1a0003",
   "metadata": {
    "papermill": {
     "duration": 0.00419,
     "end_time": "2025-02-24T16:03:15.694030",
     "exception": false,
     "start_time": "2025-02-24T16:03:15.689840",
     "status": "completed"
    },
    "tags": []
   },
   "source": [
    "<h4>Filling null values with empty string</h4>"
   ]
  },
  {
   "cell_type": "code",
   "execution_count": 5,
   "id": "a8a76d6c",
   "metadata": {
    "execution": {
     "iopub.execute_input": "2025-02-24T16:03:15.703712Z",
     "iopub.status.busy": "2025-02-24T16:03:15.703408Z",
     "iopub.status.idle": "2025-02-24T16:03:16.387634Z",
     "shell.execute_reply": "2025-02-24T16:03:16.386864Z"
    },
    "papermill": {
     "duration": 0.690666,
     "end_time": "2025-02-24T16:03:16.389135",
     "exception": false,
     "start_time": "2025-02-24T16:03:15.698469",
     "status": "completed"
    },
    "tags": []
   },
   "outputs": [],
   "source": [
    "features = ['keywords', 'genres', 'overview', 'title', 'spoken_languages', 'production_countries']\n",
    "df[features] = df[features].fillna('')"
   ]
  },
  {
   "cell_type": "markdown",
   "id": "534e6052",
   "metadata": {
    "papermill": {
     "duration": 0.004364,
     "end_time": "2025-02-24T16:03:16.398397",
     "exception": false,
     "start_time": "2025-02-24T16:03:16.394033",
     "status": "completed"
    },
    "tags": []
   },
   "source": [
    "<h4>Checking duplicates in the dataframe</h4>"
   ]
  },
  {
   "cell_type": "code",
   "execution_count": 6,
   "id": "68e45772",
   "metadata": {
    "execution": {
     "iopub.execute_input": "2025-02-24T16:03:16.408026Z",
     "iopub.status.busy": "2025-02-24T16:03:16.407791Z",
     "iopub.status.idle": "2025-02-24T16:03:19.485552Z",
     "shell.execute_reply": "2025-02-24T16:03:19.484873Z"
    },
    "papermill": {
     "duration": 3.083903,
     "end_time": "2025-02-24T16:03:19.486745",
     "exception": false,
     "start_time": "2025-02-24T16:03:16.402842",
     "status": "completed"
    },
    "tags": []
   },
   "outputs": [
    {
     "data": {
      "text/plain": [
       "370"
      ]
     },
     "execution_count": 6,
     "metadata": {},
     "output_type": "execute_result"
    }
   ],
   "source": [
    "df.duplicated().sum()"
   ]
  },
  {
   "cell_type": "markdown",
   "id": "7890617a",
   "metadata": {
    "papermill": {
     "duration": 0.004374,
     "end_time": "2025-02-24T16:03:19.496302",
     "exception": false,
     "start_time": "2025-02-24T16:03:19.491928",
     "status": "completed"
    },
    "tags": []
   },
   "source": [
    "<h4>Removing duplicates from the dataframe</h4>"
   ]
  },
  {
   "cell_type": "code",
   "execution_count": 7,
   "id": "e4eef612",
   "metadata": {
    "execution": {
     "iopub.execute_input": "2025-02-24T16:03:19.506090Z",
     "iopub.status.busy": "2025-02-24T16:03:19.505864Z",
     "iopub.status.idle": "2025-02-24T16:03:22.722780Z",
     "shell.execute_reply": "2025-02-24T16:03:22.721938Z"
    },
    "papermill": {
     "duration": 3.223448,
     "end_time": "2025-02-24T16:03:22.724282",
     "exception": false,
     "start_time": "2025-02-24T16:03:19.500834",
     "status": "completed"
    },
    "tags": []
   },
   "outputs": [],
   "source": [
    "df.drop_duplicates(inplace=True)"
   ]
  },
  {
   "cell_type": "markdown",
   "id": "3f9e62bd",
   "metadata": {
    "papermill": {
     "duration": 0.004371,
     "end_time": "2025-02-24T16:03:22.733665",
     "exception": false,
     "start_time": "2025-02-24T16:03:22.729294",
     "status": "completed"
    },
    "tags": []
   },
   "source": [
    "<h2>Downloading necessary NLTK packages</h2>"
   ]
  },
  {
   "cell_type": "code",
   "execution_count": 8,
   "id": "54245b63",
   "metadata": {
    "execution": {
     "iopub.execute_input": "2025-02-24T16:03:22.743680Z",
     "iopub.status.busy": "2025-02-24T16:03:22.743365Z",
     "iopub.status.idle": "2025-02-24T16:03:22.911395Z",
     "shell.execute_reply": "2025-02-24T16:03:22.910639Z"
    },
    "papermill": {
     "duration": 0.17421,
     "end_time": "2025-02-24T16:03:22.912469",
     "exception": false,
     "start_time": "2025-02-24T16:03:22.738259",
     "status": "completed"
    },
    "tags": []
   },
   "outputs": [
    {
     "name": "stdout",
     "output_type": "stream",
     "text": [
      "[nltk_data] Downloading package stopwords to /usr/share/nltk_data...\n",
      "[nltk_data]   Unzipping corpora/stopwords.zip.\n",
      "[nltk_data] Downloading package wordnet to /usr/share/nltk_data...\n",
      "[nltk_data]   Package wordnet is already up-to-date!\n"
     ]
    },
    {
     "data": {
      "text/plain": [
       "True"
      ]
     },
     "execution_count": 8,
     "metadata": {},
     "output_type": "execute_result"
    }
   ],
   "source": [
    "nltk.download('stopwords')\n",
    "nltk.download('wordnet')"
   ]
  },
  {
   "cell_type": "markdown",
   "id": "372381b0",
   "metadata": {
    "papermill": {
     "duration": 0.004409,
     "end_time": "2025-02-24T16:03:22.921894",
     "exception": false,
     "start_time": "2025-02-24T16:03:22.917485",
     "status": "completed"
    },
    "tags": []
   },
   "source": [
    "<h4>Initialising stop words and lemmatizer</h4>"
   ]
  },
  {
   "cell_type": "code",
   "execution_count": 9,
   "id": "b826a753",
   "metadata": {
    "execution": {
     "iopub.execute_input": "2025-02-24T16:03:22.931832Z",
     "iopub.status.busy": "2025-02-24T16:03:22.931526Z",
     "iopub.status.idle": "2025-02-24T16:03:22.935884Z",
     "shell.execute_reply": "2025-02-24T16:03:22.935201Z"
    },
    "papermill": {
     "duration": 0.010603,
     "end_time": "2025-02-24T16:03:22.936966",
     "exception": false,
     "start_time": "2025-02-24T16:03:22.926363",
     "status": "completed"
    },
    "tags": []
   },
   "outputs": [],
   "source": [
    "stop_words = set(stopwords.words('english'))\n",
    "lemmatizer = WordNetLemmatizer()"
   ]
  },
  {
   "cell_type": "markdown",
   "id": "60bf7f4b",
   "metadata": {
    "papermill": {
     "duration": 0.0044,
     "end_time": "2025-02-24T16:03:22.946214",
     "exception": false,
     "start_time": "2025-02-24T16:03:22.941814",
     "status": "completed"
    },
    "tags": []
   },
   "source": [
    "<h2>Defining functions for removing stopwords and lemmatization</h2>"
   ]
  },
  {
   "cell_type": "code",
   "execution_count": 10,
   "id": "720186d8",
   "metadata": {
    "execution": {
     "iopub.execute_input": "2025-02-24T16:03:22.957801Z",
     "iopub.status.busy": "2025-02-24T16:03:22.957521Z",
     "iopub.status.idle": "2025-02-24T16:03:22.961560Z",
     "shell.execute_reply": "2025-02-24T16:03:22.960920Z"
    },
    "papermill": {
     "duration": 0.011,
     "end_time": "2025-02-24T16:03:22.962695",
     "exception": false,
     "start_time": "2025-02-24T16:03:22.951695",
     "status": "completed"
    },
    "tags": []
   },
   "outputs": [],
   "source": [
    "def remove_stopwords(text):\n",
    "    words = [word for word in text.split() if word.lower() not in stop_words]\n",
    "    return \" \".join(words)\n",
    "\n",
    "def lemmatize_text(text):\n",
    "    words = [lemmatizer.lemmatize(word) for word in text.split()]\n",
    "    return \" \".join(words)"
   ]
  },
  {
   "cell_type": "markdown",
   "id": "45a10e41",
   "metadata": {
    "papermill": {
     "duration": 0.004368,
     "end_time": "2025-02-24T16:03:22.972052",
     "exception": false,
     "start_time": "2025-02-24T16:03:22.967684",
     "status": "completed"
    },
    "tags": []
   },
   "source": [
    "<h2>Implementing Jaccard Similarity function</h2>"
   ]
  },
  {
   "cell_type": "code",
   "execution_count": 11,
   "id": "45ee1497",
   "metadata": {
    "execution": {
     "iopub.execute_input": "2025-02-24T16:03:22.982222Z",
     "iopub.status.busy": "2025-02-24T16:03:22.981932Z",
     "iopub.status.idle": "2025-02-24T16:03:22.985329Z",
     "shell.execute_reply": "2025-02-24T16:03:22.984695Z"
    },
    "papermill": {
     "duration": 0.009659,
     "end_time": "2025-02-24T16:03:22.986360",
     "exception": false,
     "start_time": "2025-02-24T16:03:22.976701",
     "status": "completed"
    },
    "tags": []
   },
   "outputs": [],
   "source": [
    "def jaccard_similarity(set1, set2):\n",
    "    intersection = len(set1.intersection(set2))\n",
    "    union = len(set1.union(set2))\n",
    "    return intersection / union if union != 0 else 0"
   ]
  },
  {
   "cell_type": "markdown",
   "id": "ac9f26a9",
   "metadata": {
    "papermill": {
     "duration": 0.004415,
     "end_time": "2025-02-24T16:03:22.995492",
     "exception": false,
     "start_time": "2025-02-24T16:03:22.991077",
     "status": "completed"
    },
    "tags": []
   },
   "source": [
    "<h2>Safe Literal Evaluation</h2>"
   ]
  },
  {
   "cell_type": "code",
   "execution_count": 12,
   "id": "b6ee2543",
   "metadata": {
    "execution": {
     "iopub.execute_input": "2025-02-24T16:03:23.005672Z",
     "iopub.status.busy": "2025-02-24T16:03:23.005364Z",
     "iopub.status.idle": "2025-02-24T16:03:48.463217Z",
     "shell.execute_reply": "2025-02-24T16:03:48.462422Z"
    },
    "papermill": {
     "duration": 25.464762,
     "end_time": "2025-02-24T16:03:48.464805",
     "exception": false,
     "start_time": "2025-02-24T16:03:23.000043",
     "status": "completed"
    },
    "tags": []
   },
   "outputs": [],
   "source": [
    "def safe_literal_eval(value):\n",
    "    if isinstance(value, str):\n",
    "        try:\n",
    "            return literal_eval(value)\n",
    "        except (ValueError, SyntaxError):\n",
    "            return value.split(',') if value else []\n",
    "    return value if isinstance(value, list) else []\n",
    "\n",
    "features = ['keywords', 'genres', 'spoken_languages', 'production_countries']\n",
    "for feature in features:\n",
    "    df[feature] = df[feature].apply(safe_literal_eval)"
   ]
  },
  {
   "cell_type": "markdown",
   "id": "d619d4e0",
   "metadata": {
    "papermill": {
     "duration": 0.004554,
     "end_time": "2025-02-24T16:03:48.474637",
     "exception": false,
     "start_time": "2025-02-24T16:03:48.470083",
     "status": "completed"
    },
    "tags": []
   },
   "source": [
    "<h2>Cleaning the data</h2>"
   ]
  },
  {
   "cell_type": "code",
   "execution_count": 13,
   "id": "b3dbd92a",
   "metadata": {
    "execution": {
     "iopub.execute_input": "2025-02-24T16:03:48.485133Z",
     "iopub.status.busy": "2025-02-24T16:03:48.484843Z",
     "iopub.status.idle": "2025-02-24T16:03:52.968420Z",
     "shell.execute_reply": "2025-02-24T16:03:52.967633Z"
    },
    "papermill": {
     "duration": 4.490545,
     "end_time": "2025-02-24T16:03:52.969940",
     "exception": false,
     "start_time": "2025-02-24T16:03:48.479395",
     "status": "completed"
    },
    "tags": []
   },
   "outputs": [],
   "source": [
    "def clean_data(x):\n",
    "    if isinstance(x, list):\n",
    "        return [str.lower(i.replace(\" \", \"\")) for i in x]\n",
    "    else:\n",
    "        return ''\n",
    "\n",
    "features = ['keywords', 'genres', 'spoken_languages', 'production_countries']\n",
    "for feature in features:\n",
    "    df[feature] = df[feature].apply(clean_data)"
   ]
  },
  {
   "cell_type": "markdown",
   "id": "339e3595",
   "metadata": {
    "papermill": {
     "duration": 0.004503,
     "end_time": "2025-02-24T16:03:52.979542",
     "exception": false,
     "start_time": "2025-02-24T16:03:52.975039",
     "status": "completed"
    },
    "tags": []
   },
   "source": [
    "<h2>Calculating cosine similarity for overview and keywords</h2>"
   ]
  },
  {
   "cell_type": "code",
   "execution_count": 14,
   "id": "379e198e",
   "metadata": {
    "execution": {
     "iopub.execute_input": "2025-02-24T16:03:52.989304Z",
     "iopub.status.busy": "2025-02-24T16:03:52.989088Z",
     "iopub.status.idle": "2025-02-24T16:04:08.706632Z",
     "shell.execute_reply": "2025-02-24T16:04:08.705732Z"
    },
    "papermill": {
     "duration": 15.724475,
     "end_time": "2025-02-24T16:04:08.708510",
     "exception": false,
     "start_time": "2025-02-24T16:03:52.984035",
     "status": "completed"
    },
    "tags": []
   },
   "outputs": [],
   "source": [
    "df = df[:30000]\n",
    "\n",
    "tfidf_overview = TfidfVectorizer(stop_words='english')\n",
    "tfidf_overview_matrix = tfidf_overview.fit_transform(df['overview'])\n",
    "\n",
    "keywords_text = [' '.join(kw) if isinstance(kw, list) else kw for kw in df['keywords']]\n",
    "vector = CountVectorizer(stop_words='english')\n",
    "vector_keywords_matrix = vector.fit_transform(keywords_text)\n",
    "\n",
    "cosine_sim_overview = cosine_similarity(tfidf_overview_matrix)\n",
    "cosine_sim_keywords = cosine_similarity(vector_keywords_matrix)"
   ]
  },
  {
   "cell_type": "markdown",
   "id": "22f50126",
   "metadata": {
    "papermill": {
     "duration": 0.004624,
     "end_time": "2025-02-24T16:04:08.718652",
     "exception": false,
     "start_time": "2025-02-24T16:04:08.714028",
     "status": "completed"
    },
    "tags": []
   },
   "source": [
    "<h2>Converting features into Individual Lists</h2>"
   ]
  },
  {
   "cell_type": "code",
   "execution_count": 15,
   "id": "624acf03",
   "metadata": {
    "execution": {
     "iopub.execute_input": "2025-02-24T16:04:08.729445Z",
     "iopub.status.busy": "2025-02-24T16:04:08.729154Z",
     "iopub.status.idle": "2025-02-24T16:04:08.735974Z",
     "shell.execute_reply": "2025-02-24T16:04:08.735089Z"
    },
    "papermill": {
     "duration": 0.01367,
     "end_time": "2025-02-24T16:04:08.737110",
     "exception": false,
     "start_time": "2025-02-24T16:04:08.723440",
     "status": "completed"
    },
    "tags": []
   },
   "outputs": [],
   "source": [
    "movie_titles = df['title'].tolist()\n",
    "movie_genres = df['genres'].tolist()\n",
    "movie_countries = df['production_countries'].tolist()\n",
    "movie_languages = df['spoken_languages'].tolist()"
   ]
  },
  {
   "cell_type": "markdown",
   "id": "ccab442f",
   "metadata": {
    "papermill": {
     "duration": 0.004408,
     "end_time": "2025-02-24T16:04:08.746639",
     "exception": false,
     "start_time": "2025-02-24T16:04:08.742231",
     "status": "completed"
    },
    "tags": []
   },
   "source": [
    "<h2>Defining function to calculate combined similarity</h2>"
   ]
  },
  {
   "cell_type": "code",
   "execution_count": 16,
   "id": "f7c07fe3",
   "metadata": {
    "execution": {
     "iopub.execute_input": "2025-02-24T16:04:08.756694Z",
     "iopub.status.busy": "2025-02-24T16:04:08.756417Z",
     "iopub.status.idle": "2025-02-24T16:04:08.760482Z",
     "shell.execute_reply": "2025-02-24T16:04:08.759859Z"
    },
    "papermill": {
     "duration": 0.010344,
     "end_time": "2025-02-24T16:04:08.761662",
     "exception": false,
     "start_time": "2025-02-24T16:04:08.751318",
     "status": "completed"
    },
    "tags": []
   },
   "outputs": [],
   "source": [
    "def combined_similarity(idx1, idx2):\n",
    "    weight_overview = 0.3\n",
    "    weight_keywords = 0.3\n",
    "    weight_genres = 0.2\n",
    "    weight_countries = 0.1\n",
    "    weight_languages = 0.1\n",
    "    \n",
    "    genre_sim = jaccard_similarity(set(movie_genres[idx1]), set(movie_genres[idx2]))\n",
    "    country_sim = jaccard_similarity(set(movie_countries[idx1]), set(movie_countries[idx2]))\n",
    "    language_sim = jaccard_similarity(set(movie_languages[idx1]), set(movie_languages[idx2]))\n",
    "\n",
    "    return (\n",
    "        weight_overview * cosine_sim_overview[idx1, idx2] +\n",
    "        weight_keywords * cosine_sim_keywords[idx1, idx2] +\n",
    "        weight_genres * genre_sim +\n",
    "        weight_countries * country_sim +\n",
    "        weight_languages * language_sim\n",
    "    )"
   ]
  },
  {
   "cell_type": "markdown",
   "id": "d76e83d9",
   "metadata": {
    "papermill": {
     "duration": 0.004425,
     "end_time": "2025-02-24T16:04:08.770811",
     "exception": false,
     "start_time": "2025-02-24T16:04:08.766386",
     "status": "completed"
    },
    "tags": []
   },
   "source": [
    "<h2>Implementing function to retrieve recommendations</h2>"
   ]
  },
  {
   "cell_type": "code",
   "execution_count": 17,
   "id": "d8b96b3b",
   "metadata": {
    "execution": {
     "iopub.execute_input": "2025-02-24T16:04:08.782035Z",
     "iopub.status.busy": "2025-02-24T16:04:08.781775Z",
     "iopub.status.idle": "2025-02-24T16:04:08.786052Z",
     "shell.execute_reply": "2025-02-24T16:04:08.785478Z"
    },
    "papermill": {
     "duration": 0.011126,
     "end_time": "2025-02-24T16:04:08.787107",
     "exception": false,
     "start_time": "2025-02-24T16:04:08.775981",
     "status": "completed"
    },
    "tags": []
   },
   "outputs": [],
   "source": [
    "def get_recommendations(movie_title, top_n=10):\n",
    "    if not isinstance(movie_title, str):\n",
    "        return \"Error: Movie title must be a string.\"\n",
    "\n",
    "    try:\n",
    "        movie_index = df[df['title'] == movie_title].index[0]\n",
    "    except IndexError:\n",
    "        return f\"Error: '{movie_title}' not found in the dataset.\"\n",
    "    \n",
    "    similarities = [(i, combined_similarity(movie_index, i)) for i in range(len(df)) if i != movie_index]\n",
    "    similarities.sort(key=lambda x: x[1], reverse=True)\n",
    "    \n",
    "    print(f\"\\nTop {top_n} recommendations for '{movie_title}':\")\n",
    "    for i, (movie_idx, sim) in enumerate(similarities[:top_n], 1):\n",
    "        print(f\"{i}. {df.iloc[movie_idx]['title']} (Similarity: {sim:.3f})\")"
   ]
  },
  {
   "cell_type": "markdown",
   "id": "bb8eaf81",
   "metadata": {
    "papermill": {
     "duration": 0.004339,
     "end_time": "2025-02-24T16:04:08.796644",
     "exception": false,
     "start_time": "2025-02-24T16:04:08.792305",
     "status": "completed"
    },
    "tags": []
   },
   "source": [
    "<h2>Testing the recommendation system</h2>"
   ]
  },
  {
   "cell_type": "code",
   "execution_count": 18,
   "id": "ffa4440f",
   "metadata": {
    "execution": {
     "iopub.execute_input": "2025-02-24T16:04:08.807165Z",
     "iopub.status.busy": "2025-02-24T16:04:08.806863Z",
     "iopub.status.idle": "2025-02-24T16:04:08.925088Z",
     "shell.execute_reply": "2025-02-24T16:04:08.924350Z"
    },
    "papermill": {
     "duration": 0.125017,
     "end_time": "2025-02-24T16:04:08.926260",
     "exception": false,
     "start_time": "2025-02-24T16:04:08.801243",
     "status": "completed"
    },
    "tags": []
   },
   "outputs": [
    {
     "name": "stdout",
     "output_type": "stream",
     "text": [
      "\n",
      "Top 10 recommendations for 'Interstellar':\n",
      "1. Destination Moon (Similarity: 0.413)\n",
      "2. The Martian (Similarity: 0.402)\n",
      "3. Marooned (Similarity: 0.393)\n",
      "4. A.I. Artificial Intelligence (Similarity: 0.392)\n",
      "5. Stowaway (Similarity: 0.388)\n",
      "6. 1984 (Similarity: 0.386)\n",
      "7. Gravity (Similarity: 0.375)\n",
      "8. Finch (Similarity: 0.367)\n",
      "9. Ex Machina (Similarity: 0.366)\n",
      "10. Love (Similarity: 0.361)\n",
      "None\n"
     ]
    }
   ],
   "source": [
    "print(get_recommendations(\"Interstellar\"))"
   ]
  }
 ],
 "metadata": {
  "kaggle": {
   "accelerator": "none",
   "dataSources": [
    {
     "datasetId": 3816617,
     "sourceId": 10839919,
     "sourceType": "datasetVersion"
    }
   ],
   "dockerImageVersionId": 30918,
   "isGpuEnabled": false,
   "isInternetEnabled": true,
   "language": "python",
   "sourceType": "notebook"
  },
  "kernelspec": {
   "display_name": "Python 3",
   "language": "python",
   "name": "python3"
  },
  "language_info": {
   "codemirror_mode": {
    "name": "ipython",
    "version": 3
   },
   "file_extension": ".py",
   "mimetype": "text/x-python",
   "name": "python",
   "nbconvert_exporter": "python",
   "pygments_lexer": "ipython3",
   "version": "3.10.12"
  },
  "papermill": {
   "default_parameters": {},
   "duration": 75.052728,
   "end_time": "2025-02-24T16:04:11.648564",
   "environment_variables": {},
   "exception": null,
   "input_path": "__notebook__.ipynb",
   "output_path": "__notebook__.ipynb",
   "parameters": {},
   "start_time": "2025-02-24T16:02:56.595836",
   "version": "2.6.0"
  }
 },
 "nbformat": 4,
 "nbformat_minor": 5
}
